{
  "cells": [
    {
      "cell_type": "markdown",
      "metadata": {
        "id": "view-in-github",
        "colab_type": "text"
      },
      "source": [
        "<a href=\"https://colab.research.google.com/github/SurajKumar2235/housePricePrediction/blob/main/houseprice.ipynb\" target=\"_parent\"><img src=\"https://colab.research.google.com/assets/colab-badge.svg\" alt=\"Open In Colab\"/></a>"
      ]
    },
    {
      "cell_type": "code",
      "source": [
        "! mkdir ~/.kaggle\n",
        "! cp kaggle.json ~/.kaggle/"
      ],
      "metadata": {
        "id": "599OPk0UGZnZ"
      },
      "execution_count": null,
      "outputs": []
    },
    {
      "cell_type": "code",
      "source": [
        "! kaggle datasets download -d bharatsahu/house-price-prediction-dataset-insurancehub-usa"
      ],
      "metadata": {
        "id": "rQIN7RkbGXw2"
      },
      "execution_count": null,
      "outputs": []
    },
    {
      "cell_type": "code",
      "source": [
        "!unzip /content/house-price-prediction-dataset-insurancehub-usa.zip"
      ],
      "metadata": {
        "id": "IfdcSF_AGtY9"
      },
      "execution_count": null,
      "outputs": []
    },
    {
      "cell_type": "code",
      "execution_count": null,
      "metadata": {
        "execution": {
          "iopub.execute_input": "2023-10-21T04:59:24.175992Z",
          "iopub.status.busy": "2023-10-21T04:59:24.175614Z",
          "iopub.status.idle": "2023-10-21T04:59:25.214340Z",
          "shell.execute_reply": "2023-10-21T04:59:25.213040Z",
          "shell.execute_reply.started": "2023-10-21T04:59:24.175925Z"
        },
        "trusted": true,
        "id": "9ti1EtGdFkXB"
      },
      "outputs": [],
      "source": [
        "import numpy as np\n",
        "import matplotlib.pyplot as plt\n",
        "import seaborn as sns\n",
        "import pandas as pd\n",
        "import warnings\n",
        "warnings.simplefilter('ignore')\n",
        "df=pd.read_csv(\"House_price_multifeatures.csv\")\n"
      ]
    },
    {
      "cell_type": "code",
      "execution_count": null,
      "metadata": {
        "id": "Rzi3QWKNFkXC"
      },
      "outputs": [],
      "source": [
        "df.drop_duplicates(inplace=True,keep='last')"
      ]
    },
    {
      "cell_type": "code",
      "execution_count": null,
      "metadata": {
        "execution": {
          "iopub.execute_input": "2023-10-21T04:59:25.216147Z",
          "iopub.status.busy": "2023-10-21T04:59:25.215737Z",
          "iopub.status.idle": "2023-10-21T04:59:25.251517Z",
          "shell.execute_reply": "2023-10-21T04:59:25.250426Z",
          "shell.execute_reply.started": "2023-10-21T04:59:25.216115Z"
        },
        "trusted": true,
        "id": "BZWfTlAnFkXD"
      },
      "outputs": [],
      "source": [
        "df.head()"
      ]
    },
    {
      "cell_type": "code",
      "execution_count": null,
      "metadata": {
        "execution": {
          "iopub.execute_input": "2023-10-21T04:59:25.254408Z",
          "iopub.status.busy": "2023-10-21T04:59:25.253755Z",
          "iopub.status.idle": "2023-10-21T04:59:25.261755Z",
          "shell.execute_reply": "2023-10-21T04:59:25.260624Z",
          "shell.execute_reply.started": "2023-10-21T04:59:25.254351Z"
        },
        "trusted": true,
        "id": "uZeVe7ZnFkXF"
      },
      "outputs": [],
      "source": [
        "df.columns"
      ]
    },
    {
      "cell_type": "markdown",
      "metadata": {
        "id": "gBPa0sYkFkXG"
      },
      "source": []
    },
    {
      "cell_type": "code",
      "execution_count": null,
      "metadata": {
        "execution": {
          "iopub.execute_input": "2023-10-21T04:59:25.263422Z",
          "iopub.status.busy": "2023-10-21T04:59:25.263118Z",
          "iopub.status.idle": "2023-10-21T04:59:25.290522Z",
          "shell.execute_reply": "2023-10-21T04:59:25.289236Z",
          "shell.execute_reply.started": "2023-10-21T04:59:25.263395Z"
        },
        "trusted": true,
        "id": "owWYoofmFkXJ"
      },
      "outputs": [],
      "source": [
        "df.drop (columns=['Unnamed: 0', 'Id','PropertyLocationStreet1',\n",
        "       'PropertyLocationStreet2', 'PropertyCity','PropertyZip','OwnerName', 'OwnerMailAddress1', 'OwnerMailAddress2', 'OwnerCity',\n",
        "       'OwnerState', 'OwnerZip','AssesmentYear', 'Geometry', 'TTTerritory'],inplace=True)"
      ]
    },
    {
      "cell_type": "code",
      "execution_count": null,
      "metadata": {
        "execution": {
          "iopub.execute_input": "2023-10-21T04:59:25.292312Z",
          "iopub.status.busy": "2023-10-21T04:59:25.291962Z",
          "iopub.status.idle": "2023-10-21T04:59:25.299059Z",
          "shell.execute_reply": "2023-10-21T04:59:25.297960Z",
          "shell.execute_reply.started": "2023-10-21T04:59:25.292282Z"
        },
        "trusted": true,
        "id": "nfXNa0wEFkXK"
      },
      "outputs": [],
      "source": [
        "df.shape"
      ]
    },
    {
      "cell_type": "code",
      "execution_count": null,
      "metadata": {
        "execution": {
          "iopub.execute_input": "2023-10-21T04:59:25.300643Z",
          "iopub.status.busy": "2023-10-21T04:59:25.300352Z",
          "iopub.status.idle": "2023-10-21T04:59:25.386246Z",
          "shell.execute_reply": "2023-10-21T04:59:25.385293Z",
          "shell.execute_reply.started": "2023-10-21T04:59:25.300617Z"
        },
        "trusted": true,
        "id": "o8w7u05RFkXM"
      },
      "outputs": [],
      "source": [
        "df.isna().sum()"
      ]
    },
    {
      "cell_type": "code",
      "execution_count": null,
      "metadata": {
        "execution": {
          "iopub.execute_input": "2023-10-21T04:59:25.387719Z",
          "iopub.status.busy": "2023-10-21T04:59:25.387440Z",
          "iopub.status.idle": "2023-10-21T04:59:25.477862Z",
          "shell.execute_reply": "2023-10-21T04:59:25.476832Z",
          "shell.execute_reply.started": "2023-10-21T04:59:25.387692Z"
        },
        "trusted": true,
        "id": "0y8kROl0FkXO"
      },
      "outputs": [],
      "source": [
        "df.info()"
      ]
    },
    {
      "cell_type": "code",
      "execution_count": null,
      "metadata": {
        "execution": {
          "iopub.execute_input": "2023-10-21T04:59:25.479706Z",
          "iopub.status.busy": "2023-10-21T04:59:25.479393Z",
          "iopub.status.idle": "2023-10-21T04:59:25.577202Z",
          "shell.execute_reply": "2023-10-21T04:59:25.576045Z",
          "shell.execute_reply.started": "2023-10-21T04:59:25.479676Z"
        },
        "trusted": true,
        "id": "4beE5DiFFkXP"
      },
      "outputs": [],
      "source": [
        "df.dropna(how='all',axis=1,inplace=True)"
      ]
    },
    {
      "cell_type": "code",
      "execution_count": null,
      "metadata": {
        "execution": {
          "iopub.execute_input": "2023-10-21T04:59:25.582768Z",
          "iopub.status.busy": "2023-10-21T04:59:25.582475Z",
          "iopub.status.idle": "2023-10-21T04:59:25.589034Z",
          "shell.execute_reply": "2023-10-21T04:59:25.587910Z",
          "shell.execute_reply.started": "2023-10-21T04:59:25.582741Z"
        },
        "trusted": true,
        "id": "VIoCaUgiFkXQ"
      },
      "outputs": [],
      "source": [
        "df.shape"
      ]
    },
    {
      "cell_type": "code",
      "execution_count": null,
      "metadata": {
        "execution": {
          "iopub.execute_input": "2023-10-21T04:59:25.590556Z",
          "iopub.status.busy": "2023-10-21T04:59:25.590294Z",
          "iopub.status.idle": "2023-10-21T04:59:25.679751Z",
          "shell.execute_reply": "2023-10-21T04:59:25.678616Z",
          "shell.execute_reply.started": "2023-10-21T04:59:25.590532Z"
        },
        "trusted": true,
        "id": "R7pIAyNnFkXQ"
      },
      "outputs": [],
      "source": [
        "df.info()"
      ]
    },
    {
      "cell_type": "code",
      "execution_count": null,
      "metadata": {
        "execution": {
          "iopub.execute_input": "2023-10-21T04:59:25.681289Z",
          "iopub.status.busy": "2023-10-21T04:59:25.680997Z",
          "iopub.status.idle": "2023-10-21T04:59:25.687771Z",
          "shell.execute_reply": "2023-10-21T04:59:25.686770Z",
          "shell.execute_reply.started": "2023-10-21T04:59:25.681263Z"
        },
        "trusted": true,
        "id": "kiTWVOAwFkXR"
      },
      "outputs": [],
      "source": [
        "df.columns"
      ]
    },
    {
      "cell_type": "code",
      "execution_count": null,
      "metadata": {
        "execution": {
          "iopub.execute_input": "2023-10-21T04:59:25.689383Z",
          "iopub.status.busy": "2023-10-21T04:59:25.689089Z",
          "iopub.status.idle": "2023-10-21T04:59:25.711874Z",
          "shell.execute_reply": "2023-10-21T04:59:25.710798Z",
          "shell.execute_reply.started": "2023-10-21T04:59:25.689350Z"
        },
        "trusted": true,
        "id": "nPW4B8_AFkXR"
      },
      "outputs": [],
      "source": [
        "df.drop(columns=['NumberOfFamilies','NumberOfStories','NumberOfBusiness','StateParcelId','LastSaleDate','HydrantLatitude','FireStationLatitude', 'FireStationLongitude','HydrantLatitude', 'HydrantLongitude','CentroidLatitude', 'CentroidLongitude','ImprovementQualityDate','PoliceID','SinkholeLatitude','CoastLatitude',\n",
        "       'CoastLongitude','SinkholeLongitude', 'SinkholeId', 'SinkholeAddress'],inplace=True)"
      ]
    },
    {
      "cell_type": "code",
      "execution_count": null,
      "metadata": {
        "execution": {
          "iopub.execute_input": "2023-10-21T04:59:25.713623Z",
          "iopub.status.busy": "2023-10-21T04:59:25.713252Z",
          "iopub.status.idle": "2023-10-21T04:59:25.719747Z",
          "shell.execute_reply": "2023-10-21T04:59:25.718662Z",
          "shell.execute_reply.started": "2023-10-21T04:59:25.713595Z"
        },
        "trusted": true,
        "id": "Z3_prrFZFkXS"
      },
      "outputs": [],
      "source": [
        "df.shape"
      ]
    },
    {
      "cell_type": "code",
      "execution_count": null,
      "metadata": {
        "execution": {
          "iopub.execute_input": "2023-10-21T04:59:25.721277Z",
          "iopub.status.busy": "2023-10-21T04:59:25.720967Z",
          "iopub.status.idle": "2023-10-21T04:59:25.729242Z",
          "shell.execute_reply": "2023-10-21T04:59:25.728206Z",
          "shell.execute_reply.started": "2023-10-21T04:59:25.721252Z"
        },
        "trusted": true,
        "id": "nxtOuSWDFkXS"
      },
      "outputs": [],
      "source": [
        "df.columns"
      ]
    },
    {
      "cell_type": "code",
      "execution_count": null,
      "metadata": {
        "execution": {
          "iopub.execute_input": "2023-10-21T04:59:25.730612Z",
          "iopub.status.busy": "2023-10-21T04:59:25.730363Z",
          "iopub.status.idle": "2023-10-21T04:59:25.805718Z",
          "shell.execute_reply": "2023-10-21T04:59:25.804817Z",
          "shell.execute_reply.started": "2023-10-21T04:59:25.730589Z"
        },
        "trusted": true,
        "id": "zMg9GGloFkXT"
      },
      "outputs": [],
      "source": [
        "df.info()"
      ]
    },
    {
      "cell_type": "code",
      "execution_count": null,
      "metadata": {
        "execution": {
          "iopub.execute_input": "2023-10-21T04:59:25.807099Z",
          "iopub.status.busy": "2023-10-21T04:59:25.806841Z",
          "iopub.status.idle": "2023-10-21T04:59:25.820515Z",
          "shell.execute_reply": "2023-10-21T04:59:25.819535Z",
          "shell.execute_reply.started": "2023-10-21T04:59:25.807076Z"
        },
        "trusted": true,
        "id": "Of5ZQlbmFkXT"
      },
      "outputs": [],
      "source": [
        "df.drop(columns=['BCEG','CitizensTerritory',\n",
        "     'CountyFIPS','CountyName','DesignExposure',\n",
        "     'EffectiveYearBuilt', 'FarmsNRanches', 'FireDistrict',\n",
        "     'FireID', 'FloodZone', 'FloodzoneLastUpdatedDate',\n",
        "     'FloorOfResidence', 'FloridaWindpool', 'LocationWindSpeed',\n",
        "     'PPC', 'ParcelSize', 'PropertyState', 'RespondingFireDepartment',\n",
        "     'RoofMaterial', 'RoofShape','Terrain', 'UnattachedStructure',\n",
        "     'Vacant', 'YearBuilt', 'YearofRoof', 'YearofRoofVerified'],inplace=True)"
      ]
    },
    {
      "cell_type": "code",
      "execution_count": null,
      "metadata": {
        "execution": {
          "iopub.execute_input": "2023-10-21T04:59:25.821860Z",
          "iopub.status.busy": "2023-10-21T04:59:25.821622Z",
          "iopub.status.idle": "2023-10-21T04:59:25.827766Z",
          "shell.execute_reply": "2023-10-21T04:59:25.826618Z",
          "shell.execute_reply.started": "2023-10-21T04:59:25.821838Z"
        },
        "trusted": true,
        "id": "1kaoYmFPFkXT"
      },
      "outputs": [],
      "source": [
        "df.shape"
      ]
    },
    {
      "cell_type": "code",
      "execution_count": null,
      "metadata": {
        "execution": {
          "iopub.execute_input": "2023-10-21T04:59:25.829199Z",
          "iopub.status.busy": "2023-10-21T04:59:25.828895Z",
          "iopub.status.idle": "2023-10-21T04:59:25.864882Z",
          "shell.execute_reply": "2023-10-21T04:59:25.863754Z",
          "shell.execute_reply.started": "2023-10-21T04:59:25.829174Z"
        },
        "trusted": true,
        "id": "apaMrbVvFkXU"
      },
      "outputs": [],
      "source": [
        "df.info()"
      ]
    },
    {
      "cell_type": "code",
      "execution_count": null,
      "metadata": {
        "execution": {
          "iopub.execute_input": "2023-10-21T04:59:25.866333Z",
          "iopub.status.busy": "2023-10-21T04:59:25.866062Z",
          "iopub.status.idle": "2023-10-21T04:59:25.884587Z",
          "shell.execute_reply": "2023-10-21T04:59:25.883681Z",
          "shell.execute_reply.started": "2023-10-21T04:59:25.866309Z"
        },
        "trusted": true,
        "id": "YcRnAEbEFkXU"
      },
      "outputs": [],
      "source": [
        "# df['LastSalePrice','NumberOfBuildings'].fillna(0,inplace=True)\n"
      ]
    },
    {
      "cell_type": "code",
      "execution_count": null,
      "metadata": {
        "execution": {
          "iopub.execute_input": "2023-10-21T04:59:25.885883Z",
          "iopub.status.busy": "2023-10-21T04:59:25.885646Z",
          "iopub.status.idle": "2023-10-21T04:59:25.915251Z",
          "shell.execute_reply": "2023-10-21T04:59:25.914218Z",
          "shell.execute_reply.started": "2023-10-21T04:59:25.885861Z"
        },
        "trusted": true,
        "id": "5W2bzV-pFkXU"
      },
      "outputs": [],
      "source": [
        "df.isna().sum()"
      ]
    },
    {
      "cell_type": "code",
      "execution_count": null,
      "metadata": {
        "execution": {
          "iopub.execute_input": "2023-10-21T04:59:25.916835Z",
          "iopub.status.busy": "2023-10-21T04:59:25.916574Z",
          "iopub.status.idle": "2023-10-21T04:59:25.929610Z",
          "shell.execute_reply": "2023-10-21T04:59:25.928567Z",
          "shell.execute_reply.started": "2023-10-21T04:59:25.916811Z"
        },
        "trusted": true,
        "id": "kbefewCkFkXV"
      },
      "outputs": [],
      "source": [
        "df.ImprovementQuality.value_counts()"
      ]
    },
    {
      "cell_type": "code",
      "execution_count": null,
      "metadata": {
        "execution": {
          "iopub.execute_input": "2023-10-21T04:59:25.930956Z",
          "iopub.status.busy": "2023-10-21T04:59:25.930745Z",
          "iopub.status.idle": "2023-10-21T04:59:25.976991Z",
          "shell.execute_reply": "2023-10-21T04:59:25.976028Z",
          "shell.execute_reply.started": "2023-10-21T04:59:25.930936Z"
        },
        "trusted": true,
        "id": "NgvWEMAPFkXV"
      },
      "outputs": [],
      "source": [
        "df.ConstructionType.fillna('OTHER',inplace=True)\n",
        "df.AdjSquareFeet.fillna(df.AdjSquareFeet.mean(),inplace=True)\n",
        "df.ConstructionType.fillna('OTHER',inplace=True)\n",
        "df.WindborneDebrisRegion.fillna(False,inplace=True)\n",
        "df.DistancetoCoast.fillna(0,inplace=True)\n",
        "df.DistancetoSinkhole.fillna(0,inplace=True)\n",
        "df.DistancetoHydrant.fillna(0,inplace=True)\n",
        "df.DistancetoFireDepartment.fillna(0,inplace=True)\n",
        "df.ImprovementQuality.fillna('NEW',inplace=True)\n",
        "df.NumberOfBuildings.fillna(0,inplace=True)\n",
        "df['LastSalePrice'].fillna(0,inplace=True)\n",
        "df['ConstructedOverWater'].fillna(False,inplace=True)\n",
        "df.Pool.fillna(False,inplace=True)\n",
        "df['Homestead'].fillna(False,inplace=True)\n",
        "df['NumberOfUnits'].fillna(0,inplace=True)\n",
        "df[['WindborneDebrisRegion']].fillna(0,inplace=True)\n",
        "df.ConstructionType.fillna('OTHER',inplace=True)"
      ]
    },
    {
      "cell_type": "code",
      "execution_count": null,
      "metadata": {
        "execution": {
          "iopub.execute_input": "2023-10-21T04:59:25.978484Z",
          "iopub.status.busy": "2023-10-21T04:59:25.978223Z",
          "iopub.status.idle": "2023-10-21T04:59:25.996925Z",
          "shell.execute_reply": "2023-10-21T04:59:25.995966Z",
          "shell.execute_reply.started": "2023-10-21T04:59:25.978460Z"
        },
        "trusted": true,
        "id": "q77MqRbEFkXV"
      },
      "outputs": [],
      "source": [
        "df.isna().sum()"
      ]
    },
    {
      "cell_type": "code",
      "execution_count": null,
      "metadata": {
        "execution": {
          "iopub.execute_input": "2023-10-21T04:59:25.998409Z",
          "iopub.status.busy": "2023-10-21T04:59:25.998133Z",
          "iopub.status.idle": "2023-10-21T04:59:26.023177Z",
          "shell.execute_reply": "2023-10-21T04:59:26.022218Z",
          "shell.execute_reply.started": "2023-10-21T04:59:25.998383Z"
        },
        "trusted": true,
        "id": "i3csZCdsFkXW"
      },
      "outputs": [],
      "source": [
        "df.dropna(inplace=True)\n",
        "df.shape"
      ]
    },
    {
      "cell_type": "code",
      "execution_count": null,
      "metadata": {
        "execution": {
          "iopub.execute_input": "2023-10-21T05:01:10.294960Z",
          "iopub.status.busy": "2023-10-21T05:01:10.294669Z",
          "iopub.status.idle": "2023-10-21T05:01:10.318672Z",
          "shell.execute_reply": "2023-10-21T05:01:10.317758Z",
          "shell.execute_reply.started": "2023-10-21T05:01:10.294925Z"
        },
        "trusted": true,
        "id": "w89LwEnTFkXW"
      },
      "outputs": [],
      "source": [
        "df.info()"
      ]
    },
    {
      "cell_type": "code",
      "execution_count": null,
      "metadata": {
        "execution": {
          "iopub.execute_input": "2023-10-21T05:01:10.323656Z",
          "iopub.status.busy": "2023-10-21T05:01:10.323396Z",
          "iopub.status.idle": "2023-10-21T05:01:10.327369Z",
          "shell.execute_reply": "2023-10-21T05:01:10.326522Z",
          "shell.execute_reply.started": "2023-10-21T05:01:10.323633Z"
        },
        "trusted": true,
        "id": "UrD2BL8xFkXW"
      },
      "outputs": [],
      "source": [
        "column=df.columns\n",
        "column=list(column)"
      ]
    },
    {
      "cell_type": "code",
      "execution_count": null,
      "metadata": {
        "execution": {
          "iopub.execute_input": "2023-10-21T05:01:10.328759Z",
          "iopub.status.busy": "2023-10-21T05:01:10.328497Z",
          "iopub.status.idle": "2023-10-21T05:01:10.344825Z",
          "shell.execute_reply": "2023-10-21T05:01:10.343991Z",
          "shell.execute_reply.started": "2023-10-21T05:01:10.328736Z"
        },
        "trusted": true,
        "id": "1-ZkXTzHFkXX"
      },
      "outputs": [],
      "source": [
        "objectcol=list(df.select_dtypes(include='object').columns)\n",
        "numCol=list(df.select_dtypes(include=np.number).columns)"
      ]
    },
    {
      "cell_type": "code",
      "execution_count": null,
      "metadata": {
        "execution": {
          "iopub.execute_input": "2023-10-21T05:01:10.346235Z",
          "iopub.status.busy": "2023-10-21T05:01:10.345951Z",
          "iopub.status.idle": "2023-10-21T05:01:10.351641Z",
          "shell.execute_reply": "2023-10-21T05:01:10.350832Z",
          "shell.execute_reply.started": "2023-10-21T05:01:10.346211Z"
        },
        "trusted": true,
        "id": "OytlT-7NFkXX"
      },
      "outputs": [],
      "source": [
        "objectcol"
      ]
    },
    {
      "cell_type": "code",
      "execution_count": null,
      "metadata": {
        "execution": {
          "iopub.execute_input": "2023-10-21T05:01:10.352879Z",
          "iopub.status.busy": "2023-10-21T05:01:10.352636Z",
          "iopub.status.idle": "2023-10-21T05:01:10.362740Z",
          "shell.execute_reply": "2023-10-21T05:01:10.361942Z",
          "shell.execute_reply.started": "2023-10-21T05:01:10.352857Z"
        },
        "trusted": true,
        "id": "Glp0tAaoFkXX"
      },
      "outputs": [],
      "source": [
        "numCol"
      ]
    },
    {
      "cell_type": "code",
      "execution_count": null,
      "metadata": {
        "execution": {
          "iopub.execute_input": "2023-10-21T05:01:10.363899Z",
          "iopub.status.busy": "2023-10-21T05:01:10.363661Z",
          "iopub.status.idle": "2023-10-21T05:01:10.375333Z",
          "shell.execute_reply": "2023-10-21T05:01:10.374499Z",
          "shell.execute_reply.started": "2023-10-21T05:01:10.363877Z"
        },
        "trusted": true,
        "id": "mzSpjCx3FkXY"
      },
      "outputs": [],
      "source": [
        "y=df.ValueofHome\n",
        "x=df.drop('ValueofHome',axis=1)"
      ]
    },
    {
      "cell_type": "code",
      "execution_count": null,
      "metadata": {
        "execution": {
          "iopub.execute_input": "2023-10-21T05:01:10.376660Z",
          "iopub.status.busy": "2023-10-21T05:01:10.376389Z",
          "iopub.status.idle": "2023-10-21T05:01:10.386445Z",
          "shell.execute_reply": "2023-10-21T05:01:10.385646Z",
          "shell.execute_reply.started": "2023-10-21T05:01:10.376635Z"
        },
        "trusted": true,
        "id": "PJF6_PqDFkXY"
      },
      "outputs": [],
      "source": [
        "x['Homestead'].value_counts()"
      ]
    },
    {
      "cell_type": "code",
      "execution_count": null,
      "metadata": {
        "execution": {
          "iopub.execute_input": "2023-10-21T05:01:10.387795Z",
          "iopub.status.busy": "2023-10-21T05:01:10.387531Z",
          "iopub.status.idle": "2023-10-21T05:01:10.397031Z",
          "shell.execute_reply": "2023-10-21T05:01:10.396217Z",
          "shell.execute_reply.started": "2023-10-21T05:01:10.387772Z"
        },
        "trusted": true,
        "id": "iivNwgx6FkXY"
      },
      "outputs": [],
      "source": [
        "['ConstructionType',\n",
        " 'TypeOfResidence',\n",
        " 'WindborneDebrisRegion',\n",
        " 'ConstructedOverWater',\n",
        " 'Pool',\n",
        " 'ImprovementQuality',\n",
        " 'Homestead']"
      ]
    },
    {
      "cell_type": "code",
      "execution_count": null,
      "metadata": {
        "execution": {
          "iopub.execute_input": "2023-10-21T05:01:10.398236Z",
          "iopub.status.busy": "2023-10-21T05:01:10.397967Z",
          "iopub.status.idle": "2023-10-21T05:01:10.616932Z",
          "shell.execute_reply": "2023-10-21T05:01:10.616045Z",
          "shell.execute_reply.started": "2023-10-21T05:01:10.398213Z"
        },
        "trusted": true,
        "id": "2ADElNrrFkXY"
      },
      "outputs": [],
      "source": [
        "from sklearn.model_selection import train_test_split\n",
        "x_train,x_test,y_train,y_test=train_test_split(x,y,random_state=23,test_size=.2)"
      ]
    },
    {
      "cell_type": "code",
      "execution_count": null,
      "metadata": {
        "execution": {
          "iopub.execute_input": "2023-10-21T05:01:10.618559Z",
          "iopub.status.busy": "2023-10-21T05:01:10.618091Z",
          "iopub.status.idle": "2023-10-21T05:01:10.623897Z",
          "shell.execute_reply": "2023-10-21T05:01:10.623125Z",
          "shell.execute_reply.started": "2023-10-21T05:01:10.618531Z"
        },
        "trusted": true,
        "id": "uJ377K4-FkXZ"
      },
      "outputs": [],
      "source": [
        "x_train.columns"
      ]
    },
    {
      "cell_type": "code",
      "execution_count": null,
      "metadata": {
        "execution": {
          "iopub.execute_input": "2023-10-21T05:01:10.625222Z",
          "iopub.status.busy": "2023-10-21T05:01:10.624951Z",
          "iopub.status.idle": "2023-10-21T05:01:10.652795Z",
          "shell.execute_reply": "2023-10-21T05:01:10.652026Z",
          "shell.execute_reply.started": "2023-10-21T05:01:10.625200Z"
        },
        "trusted": true,
        "id": "1o9NrIlNFkXZ"
      },
      "outputs": [],
      "source": [
        "x"
      ]
    },
    {
      "cell_type": "code",
      "execution_count": null,
      "metadata": {
        "execution": {
          "iopub.execute_input": "2023-10-21T05:01:10.654158Z",
          "iopub.status.busy": "2023-10-21T05:01:10.653852Z",
          "iopub.status.idle": "2023-10-21T05:01:10.661810Z",
          "shell.execute_reply": "2023-10-21T05:01:10.661025Z",
          "shell.execute_reply.started": "2023-10-21T05:01:10.654132Z"
        },
        "trusted": true,
        "id": "q35HRfqcFkXZ"
      },
      "outputs": [],
      "source": [
        "# for x in ['ConstructionType','TypeOfResidence']:\n",
        "#    print( x_train[x].value_counts())"
      ]
    },
    {
      "cell_type": "code",
      "execution_count": null,
      "metadata": {
        "execution": {
          "iopub.execute_input": "2023-10-21T05:01:10.663132Z",
          "iopub.status.busy": "2023-10-21T05:01:10.662848Z",
          "iopub.status.idle": "2023-10-21T05:01:10.920747Z",
          "shell.execute_reply": "2023-10-21T05:01:10.919710Z",
          "shell.execute_reply.started": "2023-10-21T05:01:10.663108Z"
        },
        "trusted": true,
        "id": "Mwkgq9cgFkXk"
      },
      "outputs": [],
      "source": [
        "from sklearn.pipeline import make_pipeline\n",
        "from sklearn.preprocessing import LabelEncoder,OneHotEncoder,OrdinalEncoder,RobustScaler\n",
        "from sklearn.pipeline import make_pipeline\n",
        "from sklearn.model_selection import train_test_split\n",
        "from sklearn.compose import ColumnTransformer\n",
        "from sklearn.linear_model import LinearRegression\n",
        "ct = ColumnTransformer(\n",
        "            [\n",
        "                ('text_preprocess',OneHotEncoder(handle_unknown='ignore',drop='first'),['ConstructionType','TypeOfResidence']),\n",
        "                ('text_preprocess 2',OrdinalEncoder(),(['Pool','Homestead','ConstructedOverWater','WindborneDebrisRegion'])),\n",
        "                ('text_preprocess 3',OrdinalEncoder(),['ImprovementQuality']),\n",
        "                ('num_preprocess',RobustScaler(),['AdjSquareFeet', 'DistancetoCoast', 'DistancetoFireDepartment', 'DistancetoHydrant', 'DistancetoSinkhole',\n",
        " 'LastSalePrice', 'NumberOfBuildings', 'NumberOfUnits'])\n",
        "            ]\n",
        ")\n",
        "\n",
        "x_train = ct.fit_transform(x_train)\n",
        "x_test=ct.transform(x_test)\n",
        "\n"
      ]
    },
    {
      "cell_type": "code",
      "execution_count": null,
      "metadata": {
        "execution": {
          "iopub.execute_input": "2023-10-21T05:01:10.922116Z",
          "iopub.status.busy": "2023-10-21T05:01:10.921836Z",
          "iopub.status.idle": "2023-10-21T05:01:11.570482Z",
          "shell.execute_reply": "2023-10-21T05:01:11.569637Z",
          "shell.execute_reply.started": "2023-10-21T05:01:10.922091Z"
        },
        "trusted": true,
        "id": "3S2uoQ2_FkXk"
      },
      "outputs": [],
      "source": [
        "sns.heatmap(pd.DataFrame(x_train).corr('spearman'))"
      ]
    },
    {
      "cell_type": "code",
      "execution_count": null,
      "metadata": {
        "id": "KXCG9xnhFkXk"
      },
      "outputs": [],
      "source": [
        "from sklearn.decomposition import PCA\n",
        "pca=PCA(n_components=25)\n",
        "x_train_pca=pca.fit_transform(x_train)\n",
        "x_test_pca=pca.fit_transform(x_test)"
      ]
    },
    {
      "cell_type": "code",
      "execution_count": null,
      "metadata": {
        "execution": {
          "iopub.execute_input": "2023-10-21T05:01:11.571768Z",
          "iopub.status.busy": "2023-10-21T05:01:11.571499Z",
          "iopub.status.idle": "2023-10-21T05:01:11.576956Z",
          "shell.execute_reply": "2023-10-21T05:01:11.576111Z",
          "shell.execute_reply.started": "2023-10-21T05:01:11.571744Z"
        },
        "trusted": true,
        "id": "U8vnFcJ0FkXl"
      },
      "outputs": [],
      "source": [
        "plt.figure(figsize=(10,5))\n",
        "sns.heatmap(pd.DataFrame(x_train).corr('spearman'))"
      ]
    },
    {
      "cell_type": "code",
      "execution_count": null,
      "metadata": {
        "id": "SwDIwzK2FkXl"
      },
      "outputs": [],
      "source": []
    },
    {
      "cell_type": "code",
      "execution_count": null,
      "metadata": {
        "execution": {
          "iopub.execute_input": "2023-10-21T05:01:11.578228Z",
          "iopub.status.busy": "2023-10-21T05:01:11.577945Z",
          "iopub.status.idle": "2023-10-21T05:01:11.588017Z",
          "shell.execute_reply": "2023-10-21T05:01:11.587216Z",
          "shell.execute_reply.started": "2023-10-21T05:01:11.578205Z"
        },
        "trusted": true,
        "id": "rLjYMpDjFkXm"
      },
      "outputs": [],
      "source": [
        "x_test.shape"
      ]
    },
    {
      "cell_type": "code",
      "execution_count": null,
      "metadata": {
        "execution": {
          "iopub.execute_input": "2023-10-21T05:01:11.589293Z",
          "iopub.status.busy": "2023-10-21T05:01:11.589034Z",
          "iopub.status.idle": "2023-10-21T05:01:50.484617Z",
          "shell.execute_reply": "2023-10-21T05:01:50.483547Z",
          "shell.execute_reply.started": "2023-10-21T05:01:11.589271Z"
        },
        "trusted": true,
        "id": "8AD5F8aCFkXm"
      },
      "outputs": [],
      "source": [
        "import tensorflow\n",
        "from tensorflow import keras\n",
        "from keras import Sequential\n",
        "from keras.layers import Dense"
      ]
    },
    {
      "cell_type": "code",
      "execution_count": null,
      "metadata": {
        "execution": {
          "iopub.execute_input": "2023-10-21T05:09:39.530436Z",
          "iopub.status.busy": "2023-10-21T05:09:39.529417Z",
          "iopub.status.idle": "2023-10-21T05:09:39.581046Z",
          "shell.execute_reply": "2023-10-21T05:09:39.579796Z",
          "shell.execute_reply.started": "2023-10-21T05:09:39.530398Z"
        },
        "trusted": true,
        "id": "bVPe5nSpFkXn"
      },
      "outputs": [],
      "source": [
        "# MOdel\n",
        "model=Sequential()\n",
        "model.add(Dense(16,activation='elu',input_dim=25))\n",
        "model.add(Dense(16,activation='elu'))\n",
        "model.add(Dense(8,activation='elu'))\n",
        "\n",
        "model.add(Dense(1,activation='relu'))"
      ]
    },
    {
      "cell_type": "code",
      "execution_count": null,
      "metadata": {
        "execution": {
          "iopub.execute_input": "2023-10-21T05:09:39.657930Z",
          "iopub.status.busy": "2023-10-21T05:09:39.657545Z",
          "iopub.status.idle": "2023-10-21T05:09:39.674933Z",
          "shell.execute_reply": "2023-10-21T05:09:39.673899Z",
          "shell.execute_reply.started": "2023-10-21T05:09:39.657901Z"
        },
        "trusted": true,
        "id": "nYHFcFmGFkXn"
      },
      "outputs": [],
      "source": [
        "model.summary()"
      ]
    },
    {
      "cell_type": "code",
      "execution_count": null,
      "metadata": {
        "execution": {
          "iopub.execute_input": "2023-10-21T05:09:43.422454Z",
          "iopub.status.busy": "2023-10-21T05:09:43.422043Z",
          "iopub.status.idle": "2023-10-21T05:11:55.764806Z",
          "shell.execute_reply": "2023-10-21T05:11:55.763686Z",
          "shell.execute_reply.started": "2023-10-21T05:09:43.422423Z"
        },
        "trusted": true,
        "id": "tVswgnAEFkXn"
      },
      "outputs": [],
      "source": [
        "model.compile(loss='MAPE',optimizer='adam',metrics='MAPE')\n",
        "history=model.fit(x_train_pca,y_train,validation_data = (x_test_pca,y_test),\n",
        "                  epochs=100,validation_split=.2,initial_epoch=7)"
      ]
    },
    {
      "cell_type": "code",
      "execution_count": null,
      "metadata": {
        "execution": {
          "iopub.execute_input": "2023-10-21T05:11:55.767282Z",
          "iopub.status.busy": "2023-10-21T05:11:55.766902Z",
          "iopub.status.idle": "2023-10-21T05:11:55.941579Z",
          "shell.execute_reply": "2023-10-21T05:11:55.940766Z",
          "shell.execute_reply.started": "2023-10-21T05:11:55.767249Z"
        },
        "trusted": true,
        "id": "FhfhnrObFkXo"
      },
      "outputs": [],
      "source": [
        "plt.plot(history.history['loss'],color='red')\n",
        "plt.plot(history.history['val_loss'],)"
      ]
    },
    {
      "cell_type": "code",
      "execution_count": null,
      "metadata": {
        "id": "0MGfkRVSFkXo"
      },
      "outputs": [],
      "source": [
        "%pip install pydot\n",
        "%pip install pydot_ng\n",
        "%pip install graphviz"
      ]
    },
    {
      "cell_type": "code",
      "execution_count": null,
      "metadata": {
        "id": "YP_kxme2FkXp"
      },
      "outputs": [],
      "source": [
        "keras.utils.plot_model(\n",
        "    model,\n",
        "    to_file='model.png',\n",
        "\n",
        ")"
      ]
    },
    {
      "cell_type": "code",
      "execution_count": null,
      "metadata": {
        "execution": {
          "iopub.execute_input": "2023-10-21T05:11:55.942821Z",
          "iopub.status.busy": "2023-10-21T05:11:55.942559Z",
          "iopub.status.idle": "2023-10-21T05:11:56.113249Z",
          "shell.execute_reply": "2023-10-21T05:11:56.112546Z",
          "shell.execute_reply.started": "2023-10-21T05:11:55.942795Z"
        },
        "trusted": true,
        "id": "G1teVCwpFkXp"
      },
      "outputs": [],
      "source": [
        "plt.plot(history.history['MAPE'],color='red')\n",
        "plt.plot(history.history['val_MAPE'],)\n",
        "\n"
      ]
    },
    {
      "cell_type": "code",
      "execution_count": null,
      "metadata": {
        "id": "Vg_uol_IFkXq"
      },
      "outputs": [],
      "source": [
        "y_pred=model.predict(x_test_pca)"
      ]
    },
    {
      "cell_type": "code",
      "execution_count": null,
      "metadata": {
        "execution": {
          "iopub.execute_input": "2023-10-21T05:11:56.115212Z",
          "iopub.status.busy": "2023-10-21T05:11:56.114908Z",
          "iopub.status.idle": "2023-10-21T05:11:56.121536Z",
          "shell.execute_reply": "2023-10-21T05:11:56.120859Z",
          "shell.execute_reply.started": "2023-10-21T05:11:56.115186Z"
        },
        "trusted": true,
        "id": "eVpJSW7pFkXq"
      },
      "outputs": [],
      "source": [
        "from sklearn.metrics import mean_absolute_percentage_error\n",
        "mean_absolute_percentage_error(y_pred=y_pred,y_true=y_test)\n"
      ]
    },
    {
      "cell_type": "code",
      "execution_count": null,
      "metadata": {
        "id": "zGjCYSERFkXq"
      },
      "outputs": [],
      "source": [
        "from sklearn.metrics import r2_score\n",
        "r2_score(y_pred=y_pred,y_true=y_test)"
      ]
    },
    {
      "cell_type": "code",
      "execution_count": null,
      "metadata": {
        "id": "Vew5vhkiFkXr"
      },
      "outputs": [],
      "source": [
        "from keras.callbacks import EarlyStopping\n",
        "callback=EarlyStopping(monitor='val_loss',min_delta=.01,patience=2,verbose=1,mode='auto',restore_best_weights=True)"
      ]
    },
    {
      "cell_type": "code",
      "execution_count": null,
      "metadata": {
        "id": "xJoSwDjXFkXr"
      },
      "outputs": [],
      "source": [
        "# MOdel\n",
        "from keras.layers import BatchNormalization,Dropout\n",
        "model1=Sequential()\n",
        "model1.add(Dense(16,activation='elu',input_dim=25))\n",
        "# model1.add(BatchNormalization())\n",
        "# model1.add(Dropout(rate=.2))\n",
        "\n",
        "model1.add(Dense(16,activation='elu'))\n",
        "model1.add(BatchNormalization())\n",
        "model1.add(Dropout(rate=.3))\n",
        "model1.add(Dense(8,activation='elu'))\n",
        "model1.add(BatchNormalization())\n",
        "# model1.add(Dropout(rate=.2))\n",
        "\n",
        "\n",
        "model1.add(Dense(1,activation='relu'))"
      ]
    },
    {
      "cell_type": "code",
      "source": [
        "keras.utils.plot_model(\n",
        "    model1,\n",
        "    to_file='model1.png',\n",
        "\n",
        ")"
      ],
      "metadata": {
        "id": "BifdIKhxKbZ9"
      },
      "execution_count": null,
      "outputs": []
    },
    {
      "cell_type": "code",
      "execution_count": null,
      "metadata": {
        "id": "5SfLKHZKFkXr"
      },
      "outputs": [],
      "source": [
        "model1.summary()"
      ]
    },
    {
      "cell_type": "code",
      "execution_count": null,
      "metadata": {
        "id": "hyExcW0gFkXs"
      },
      "outputs": [],
      "source": [
        "model1.compile(loss='MAPE',optimizer='Adam',metrics='MAPE')\n",
        "history=model1.fit(x_train_pca,y_train,validation_data = (x_test_pca,y_test),\n",
        "                  epochs=200,initial_epoch=7,batch_size=50,validation_split=.3,callbacks=callback)"
      ]
    },
    {
      "cell_type": "code",
      "execution_count": null,
      "metadata": {
        "id": "wKndG436FkXs"
      },
      "outputs": [],
      "source": [
        "plt.plot(history.history['MAPE'],color='red')\n",
        "plt.plot(history.history['val_MAPE'],)\n",
        "plt.legend(['MAPE','val_MAPE'])"
      ]
    },
    {
      "cell_type": "code",
      "execution_count": null,
      "metadata": {
        "id": "_-CEHtIAFkXs"
      },
      "outputs": [],
      "source": [
        "y_pred=model1.predict(x_test_pca)"
      ]
    },
    {
      "cell_type": "code",
      "execution_count": null,
      "metadata": {
        "id": "6WUNyG4PFkXt"
      },
      "outputs": [],
      "source": [
        "from sklearn.metrics import r2_score\n",
        "r2_score(y_pred=y_pred,y_true=y_test)"
      ]
    },
    {
      "cell_type": "code",
      "execution_count": null,
      "metadata": {
        "id": "TjW10zExFkXt"
      },
      "outputs": [],
      "source": [
        "from sklearn.metrics import mean_absolute_percentage_error\n",
        "mean_absolute_percentage_error(y_pred=y_pred,y_true=y_test)\n"
      ]
    },
    {
      "cell_type": "code",
      "execution_count": null,
      "metadata": {
        "id": "nOi4xD6HFkXu"
      },
      "outputs": [],
      "source": [
        "model1.compile(loss='MAPE',optimizer='Adam',metrics='MAPE')\n",
        "history=model1.fit(x_train_pca,y_train,validation_data = (x_test_pca,y_test),\n",
        "                  epochs=200,initial_epoch=7,batch_size=50,validation_split=.3,callbacks=callback)"
      ]
    },
    {
      "cell_type": "code",
      "execution_count": null,
      "metadata": {
        "id": "qdfOMRUaFkXu"
      },
      "outputs": [],
      "source": [
        "from sklearn.metrics import r2_score\n",
        "r2_score(y_pred=y_pred,y_true=y_test)"
      ]
    },
    {
      "cell_type": "code",
      "execution_count": null,
      "metadata": {
        "id": "KuiBrP_KFkXu"
      },
      "outputs": [],
      "source": [
        "plt.plot(history.history['MAPE'],color='red')\n",
        "plt.plot(history.history['val_MAPE'],)\n",
        "plt.legend(['MAPE','val_MAPE'])"
      ]
    },
    {
      "cell_type": "code",
      "source": [],
      "metadata": {
        "id": "h0I3BQ_-LQ2t"
      },
      "execution_count": null,
      "outputs": []
    }
  ],
  "metadata": {
    "kernelspec": {
      "display_name": "Python 3",
      "language": "python",
      "name": "python3"
    },
    "language_info": {
      "codemirror_mode": {
        "name": "ipython",
        "version": 3
      },
      "file_extension": ".py",
      "mimetype": "text/x-python",
      "name": "python",
      "nbconvert_exporter": "python",
      "pygments_lexer": "ipython3",
      "version": "3.11.4"
    },
    "colab": {
      "provenance": [],
      "include_colab_link": true
    }
  },
  "nbformat": 4,
  "nbformat_minor": 0
}